{
 "cells": [
  {
   "cell_type": "markdown",
   "id": "b47a950a",
   "metadata": {},
   "source": [
    "# Data Science Tools and Ecosystem"
   ]
  },
  {
   "cell_type": "markdown",
   "id": "ad698138",
   "metadata": {},
   "source": [
    "In this notebook, Data Science Tools and Ecosystem are summarized."
   ]
  },
  {
   "cell_type": "markdown",
   "id": "3c94b7de",
   "metadata": {},
   "source": [
    "Some of the popular languages that Data Scientists use are:\n",
    "\n",
    "    1. Python\n",
    "    2. R\n",
    "    3. Julia\n",
    "    4. SQL\n",
    "    5. Java"
   ]
  },
  {
   "cell_type": "markdown",
   "id": "aedf72ea",
   "metadata": {},
   "source": [
    "Some of the commonly used libraries used by Data Scientists include:\n",
    "\n",
    "    1. Numpy\n",
    "    2. Matplotlib\n",
    "    3. PyTorch\n",
    "    4. Tensorflow\n",
    "    5. Scikit-Learn"
   ]
  },
  {
   "cell_type": "markdown",
   "id": "dd382b1e",
   "metadata": {},
   "source": [
    "| Data Science Tools   |\n",
    "|---------|\n",
    "| VSCode |\n",
    "| Jupyter Notebooks   |\n",
    "| MySQL |\n",
    "| Apache Spark  |"
   ]
  },
  {
   "cell_type": "markdown",
   "id": "3bcc3ece",
   "metadata": {},
   "source": [
    "### Below are a few examples of evaluating arithmetic expressions in Python"
   ]
  },
  {
   "cell_type": "code",
   "execution_count": 2,
   "id": "757b8965",
   "metadata": {},
   "outputs": [
    {
     "data": {
      "text/plain": [
       "17"
      ]
     },
     "execution_count": 2,
     "metadata": {},
     "output_type": "execute_result"
    }
   ],
   "source": [
    "# This a simple arithmetic expression to mutiply then add integers\n",
    "(3*4)+5"
   ]
  },
  {
   "cell_type": "code",
   "execution_count": 7,
   "id": "4e48c96a",
   "metadata": {},
   "outputs": [
    {
     "data": {
      "text/plain": [
       "3"
      ]
     },
     "execution_count": 7,
     "metadata": {},
     "output_type": "execute_result"
    }
   ],
   "source": [
    "# This will convert 200 minutes to hours by diving by 60\n",
    "\n",
    "minutes = 200\n",
    "hours = 200 // 60\n",
    "\n",
    "hours"
   ]
  },
  {
   "cell_type": "markdown",
   "id": "037ea2ec",
   "metadata": {},
   "source": [
    "**Objectives:**\n",
    "* List popular languages for Data Science\n",
    "* Create a code cell to convert minutes to hours\n",
    "* Create a code cell to multiply and add numbers"
   ]
  },
  {
   "cell_type": "markdown",
   "id": "dce0a84c",
   "metadata": {},
   "source": [
    "## Author\n",
    "Steven Davenport"
   ]
  }
 ],
 "metadata": {
  "kernelspec": {
   "display_name": "Python 3 (ipykernel)",
   "language": "python",
   "name": "python3"
  },
  "language_info": {
   "codemirror_mode": {
    "name": "ipython",
    "version": 3
   },
   "file_extension": ".py",
   "mimetype": "text/x-python",
   "name": "python",
   "nbconvert_exporter": "python",
   "pygments_lexer": "ipython3",
   "version": "3.9.12"
  }
 },
 "nbformat": 4,
 "nbformat_minor": 5
}
